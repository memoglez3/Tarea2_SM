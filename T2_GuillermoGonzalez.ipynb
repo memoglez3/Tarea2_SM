{
 "cells": [
  {
   "cell_type": "markdown",
   "metadata": {},
   "source": [
    "# 5 REASONS YOU SHOULD LEARN PYTHON NOW\n",
    "Now *Phyton* is the most popular introductory teaching language in the U.S. Universities, and is the fourth most popular language according to an IEEE survey, behind old classics Java, C, and C++.\n",
    "\n",
    "Why is recomenden for beginners?\n",
    "* Is easy to use\n",
    "* Powerful\n",
    "* Versatile \n",
    "\n",
    "The fact that is easy to use isn´t a reason to consider a wimpy language; is incredibly powerful and for that is why companies like Google, Netflix, Spotify and dropbox use it.\n",
    "If you take a look at these companies, you can see they benefit from Python for its ease of use and because it’s great for rapid prototyping and iteration. \n",
    "\n",
    "There are lots of great reasons to learn Python, and hopefully a few of the examples and resources I’ve shown today have helped you see how you could be using it too"
   ]
  },
  {
   "cell_type": "markdown",
   "metadata": {},
   "source": [
    "# Spotlight: Why Python Training Is Totally Worth It\n",
    "Then I will speak you about some features that make *Phyton* a great option for beginners and experts programmers:\n",
    "* **Uses of Python:** \n",
    "    Python’s capabilities range from general purpose to higher level programming functions, and it has a wide variety of applications. Python also makes use of streamlined syntax, which greatly helps to simplify maintenance and updates and allows you to express various programming concepts without the need for additional coding.\n",
    "\n",
    "* **A helping hand:**\n",
    "    While you probably will have no problem teaching your team some of the simpler Python concepts, higher level programming concepts will likely prove to be more difficult to impart.\n",
    "Depending on your comfort level when it comes to teaching and training, you may want to consider bringing in some extra help to get your team ready to conquer what might be an unfamiliar programming language.\n",
    "\n",
    "* **Conquering a new language:** \n",
    "    While Python may seem intimidating to the uninitiated, once you’ve invested in the right training, you’ll find that it’ll be much easier for your team to pick up these concepts and apply them to company projects."
   ]
  }
 ],
 "metadata": {
  "kernelspec": {
   "display_name": "Python 3",
   "language": "python",
   "name": "python3"
  },
  "language_info": {
   "codemirror_mode": {
    "name": "ipython",
    "version": 3
   },
   "file_extension": ".py",
   "mimetype": "text/x-python",
   "name": "python",
   "nbconvert_exporter": "python",
   "pygments_lexer": "ipython3",
   "version": "3.7.4"
  }
 },
 "nbformat": 4,
 "nbformat_minor": 2
}
