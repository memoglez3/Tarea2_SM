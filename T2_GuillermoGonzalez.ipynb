{
 "cells": [
  {
   "cell_type": "markdown",
   "metadata": {},
   "source": [
    "# 5 REASONS YOU SHOULD LEARN PYTHON NOW\n",
    "Now *Phyton* is the most popular introductory teaching language in the U.S. Universities, and is the fourth most popular language according to an IEEE survey, behind old classics Java, C, and C++.\n",
    "\n",
    "Why is recomenden for beginners?\n",
    "* Is easy to use\n",
    "* Powerful\n",
    "* Versatile \n",
    "\n",
    "The fact that is easy to use isn´t a reason to consider a wimpy language; is incredibly powerful and for that is why companies like Google, Netflix, Spotify and dropbox use it.\n",
    "If you take a look at these companies, you can see they benefit from Python for its ease of use and because it’s great for rapid prototyping and iteration. \n",
    "\n",
    "There are lots of great reasons to learn Python, and hopefully a few of the examples and resources I’ve shown today have helped you see how you could be using it too"
   ]
  },
  {
   "cell_type": "markdown",
   "metadata": {},
   "source": []
  }
 ],
 "metadata": {
  "kernelspec": {
   "display_name": "Python 3",
   "language": "python",
   "name": "python3"
  },
  "language_info": {
   "codemirror_mode": {
    "name": "ipython",
    "version": 3
   },
   "file_extension": ".py",
   "mimetype": "text/x-python",
   "name": "python",
   "nbconvert_exporter": "python",
   "pygments_lexer": "ipython3",
   "version": "3.7.4"
  }
 },
 "nbformat": 4,
 "nbformat_minor": 2
}
